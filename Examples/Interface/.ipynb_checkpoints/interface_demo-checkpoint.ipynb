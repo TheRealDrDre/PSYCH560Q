{
 "cells": [
  {
   "cell_type": "markdown",
   "metadata": {},
   "source": [
    "# Model Interface Type 1: Using ACT-R's default window\n",
    "    \n",
    "ACT-R comes with a default window, which can be made invisible if one wants to. Using the default window is perhaps the easiest way to implement a simple task.\n",
    "\n",
    "## The Lexical Decision task\n",
    "\n",
    "To start, we will simulate a simple _lexical decision_ task. In the task, a string of letters appears on the screen and the model has to decide whether the string forms an english word (e.g., \"zebra\") or not (e.g. \"xyzzy\").  \n",
    "    \n",
    "The model is contained in the `lexical.lisp` file."
   ]
  },
  {
   "cell_type": "code",
   "execution_count": 2,
   "metadata": {},
   "outputs": [
    {
     "name": "stdout",
     "output_type": "stream",
     "text": [
      "ACT-R connection has been started.\n"
     ]
    }
   ],
   "source": [
    "import actr"
   ]
  },
  {
   "cell_type": "markdown",
   "metadata": {},
   "source": [
    "First, we define the task logic"
   ]
  },
  {
   "cell_type": "code",
   "execution_count": 33,
   "metadata": {},
   "outputs": [],
   "source": [
    "def create_window():\n",
    "    win = actr.open_exp_window(\"Test\", width=400, height=400, visible=True)\n",
    "    actr.install_device(create_window())\n",
    "    actr.add_text_to_exp_window(win, \"zebra\", x=200, y=200)\n",
    "    return win\n",
    "\n",
    "def run_experiment():\n",
    "    actr.reset()\n",
    "    actr.print_visicon()\n",
    "    actr.load_act_r_model(\"lexical.lisp\")\n",
    "    actr.run(1)"
   ]
  },
  {
   "cell_type": "code",
   "execution_count": 34,
   "metadata": {},
   "outputs": [
    {
     "name": "stdout",
     "output_type": "stream",
     "text": [
      "Name  Att  Loc   \n",
      "----  ---  ----\n",
      "     0.000   PROCEDURAL             CONFLICT-RESOLUTION\n",
      "     0.050   PROCEDURAL             PRODUCTION-FIRED FIND-WORD\n",
      "     0.050   PROCEDURAL             CLEAR-BUFFER VISUAL-LOCATION\n",
      "     0.050   VISION                 Find-location\n",
      "     0.050   VISION                 FIND-LOC-FAILURE\n",
      "     0.050   PROCEDURAL             CONFLICT-RESOLUTION\n",
      "     0.100   PROCEDURAL             PRODUCTION-FIRED FIND-WORD\n",
      "     0.100   PROCEDURAL             CLEAR-BUFFER VISUAL-LOCATION\n",
      "     0.100   VISION                 Find-location\n",
      "     0.100   VISION                 FIND-LOC-FAILURE\n",
      "     0.100   PROCEDURAL             CONFLICT-RESOLUTION\n",
      "     0.150   PROCEDURAL             PRODUCTION-FIRED FIND-WORD\n",
      "     0.150   PROCEDURAL             CLEAR-BUFFER VISUAL-LOCATION\n",
      "     0.150   VISION                 Find-location\n",
      "     0.150   VISION                 FIND-LOC-FAILURE\n",
      "     0.150   PROCEDURAL             CONFLICT-RESOLUTION\n",
      "     0.200   PROCEDURAL             PRODUCTION-FIRED FIND-WORD\n",
      "     0.200   PROCEDURAL             CLEAR-BUFFER VISUAL-LOCATION\n",
      "     0.200   VISION                 Find-location\n",
      "     0.200   VISION                 FIND-LOC-FAILURE\n",
      "     0.200   PROCEDURAL             CONFLICT-RESOLUTION\n",
      "     0.250   PROCEDURAL             PRODUCTION-FIRED FIND-WORD\n",
      "     0.250   PROCEDURAL             CLEAR-BUFFER VISUAL-LOCATION\n",
      "     0.250   VISION                 Find-location\n",
      "     0.250   VISION                 FIND-LOC-FAILURE\n",
      "     0.250   PROCEDURAL             CONFLICT-RESOLUTION\n",
      "     0.300   PROCEDURAL             PRODUCTION-FIRED FIND-WORD\n",
      "     0.300   PROCEDURAL             CLEAR-BUFFER VISUAL-LOCATION\n",
      "     0.300   VISION                 Find-location\n",
      "     0.300   VISION                 FIND-LOC-FAILURE\n",
      "     0.300   PROCEDURAL             CONFLICT-RESOLUTION\n",
      "     0.350   PROCEDURAL             PRODUCTION-FIRED FIND-WORD\n",
      "     0.350   PROCEDURAL             CLEAR-BUFFER VISUAL-LOCATION\n",
      "     0.350   VISION                 Find-location\n",
      "     0.350   VISION                 FIND-LOC-FAILURE\n",
      "     0.350   PROCEDURAL             CONFLICT-RESOLUTION\n",
      "     0.400   PROCEDURAL             PRODUCTION-FIRED FIND-WORD\n",
      "     0.400   PROCEDURAL             CLEAR-BUFFER VISUAL-LOCATION\n",
      "     0.400   VISION                 Find-location\n",
      "     0.400   VISION                 FIND-LOC-FAILURE\n",
      "     0.400   PROCEDURAL             CONFLICT-RESOLUTION\n",
      "     0.450   PROCEDURAL             PRODUCTION-FIRED FIND-WORD\n",
      "     0.450   PROCEDURAL             CLEAR-BUFFER VISUAL-LOCATION\n",
      "     0.450   VISION                 Find-location\n",
      "     0.450   VISION                 FIND-LOC-FAILURE\n",
      "     0.450   PROCEDURAL             CONFLICT-RESOLUTION\n",
      "     0.500   PROCEDURAL             PRODUCTION-FIRED FIND-WORD\n",
      "     0.500   PROCEDURAL             CLEAR-BUFFER VISUAL-LOCATION\n",
      "     0.500   VISION                 Find-location\n",
      "     0.500   VISION                 FIND-LOC-FAILURE\n",
      "     0.500   PROCEDURAL             CONFLICT-RESOLUTION\n",
      "     0.550   PROCEDURAL             PRODUCTION-FIRED FIND-WORD\n",
      "     0.550   PROCEDURAL             CLEAR-BUFFER VISUAL-LOCATION\n",
      "     0.550   VISION                 Find-location\n",
      "     0.550   VISION                 FIND-LOC-FAILURE\n",
      "     0.550   PROCEDURAL             CONFLICT-RESOLUTION\n",
      "     0.600   PROCEDURAL             PRODUCTION-FIRED FIND-WORD\n",
      "     0.600   PROCEDURAL             CLEAR-BUFFER VISUAL-LOCATION\n",
      "     0.600   VISION                 Find-location\n",
      "     0.600   VISION                 FIND-LOC-FAILURE\n",
      "     0.600   PROCEDURAL             CONFLICT-RESOLUTION\n",
      "     0.650   PROCEDURAL             PRODUCTION-FIRED FIND-WORD\n",
      "     0.650   PROCEDURAL             CLEAR-BUFFER VISUAL-LOCATION\n",
      "     0.650   VISION                 Find-location\n",
      "     0.650   VISION                 FIND-LOC-FAILURE\n",
      "     0.650   PROCEDURAL             CONFLICT-RESOLUTION\n",
      "     0.700   PROCEDURAL             PRODUCTION-FIRED FIND-WORD\n",
      "     0.700   PROCEDURAL             CLEAR-BUFFER VISUAL-LOCATION\n",
      "     0.700   VISION                 Find-location\n",
      "     0.700   VISION                 FIND-LOC-FAILURE\n",
      "     0.700   PROCEDURAL             CONFLICT-RESOLUTION\n",
      "     0.750   PROCEDURAL             PRODUCTION-FIRED FIND-WORD\n",
      "     0.750   PROCEDURAL             CLEAR-BUFFER VISUAL-LOCATION\n",
      "     0.750   VISION                 Find-location\n",
      "     0.750   VISION                 FIND-LOC-FAILURE\n",
      "     0.750   PROCEDURAL             CONFLICT-RESOLUTION\n",
      "     0.800   PROCEDURAL             PRODUCTION-FIRED FIND-WORD\n",
      "     0.800   PROCEDURAL             CLEAR-BUFFER VISUAL-LOCATION\n",
      "     0.800   VISION                 Find-location\n",
      "     0.800   VISION                 FIND-LOC-FAILURE\n",
      "     0.800   PROCEDURAL             CONFLICT-RESOLUTION\n",
      "     0.850   PROCEDURAL             PRODUCTION-FIRED FIND-WORD\n",
      "     0.850   PROCEDURAL             CLEAR-BUFFER VISUAL-LOCATION\n",
      "     0.850   VISION                 Find-location\n",
      "     0.850   VISION                 FIND-LOC-FAILURE\n",
      "     0.850   PROCEDURAL             CONFLICT-RESOLUTION\n",
      "     0.900   PROCEDURAL             PRODUCTION-FIRED FIND-WORD\n",
      "     0.900   PROCEDURAL             CLEAR-BUFFER VISUAL-LOCATION\n",
      "     0.900   VISION                 Find-location\n",
      "     0.900   VISION                 FIND-LOC-FAILURE\n",
      "     0.900   PROCEDURAL             CONFLICT-RESOLUTION\n",
      "     0.950   PROCEDURAL             PRODUCTION-FIRED FIND-WORD\n",
      "     0.950   PROCEDURAL             CLEAR-BUFFER VISUAL-LOCATION\n",
      "     0.950   VISION                 Find-location\n",
      "     0.950   VISION                 FIND-LOC-FAILURE\n",
      "     0.950   PROCEDURAL             CONFLICT-RESOLUTION\n",
      "     1.000   PROCEDURAL             PRODUCTION-FIRED FIND-WORD\n",
      "     1.000   PROCEDURAL             CLEAR-BUFFER VISUAL-LOCATION\n",
      "     1.000   VISION                 Find-location\n",
      "     1.000   VISION                 FIND-LOC-FAILURE\n",
      "     1.000   PROCEDURAL             CONFLICT-RESOLUTION\n",
      "     1.000   ------                 Stopped because time limit reached\n"
     ]
    }
   ],
   "source": [
    "\n",
    "run_experiment()"
   ]
  }
 ],
 "metadata": {
  "kernelspec": {
   "display_name": "Python 3",
   "language": "python",
   "name": "python3"
  },
  "language_info": {
   "codemirror_mode": {
    "name": "ipython",
    "version": 3
   },
   "file_extension": ".py",
   "mimetype": "text/x-python",
   "name": "python",
   "nbconvert_exporter": "python",
   "pygments_lexer": "ipython3",
   "version": "3.7.4"
  }
 },
 "nbformat": 4,
 "nbformat_minor": 4
}
