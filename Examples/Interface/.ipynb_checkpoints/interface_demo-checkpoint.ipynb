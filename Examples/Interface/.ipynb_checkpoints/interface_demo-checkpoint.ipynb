{
 "cells": [
  {
   "cell_type": "markdown",
   "metadata": {},
   "source": [
    "# Model Interface Type 1: Using ACT-R's default window\n",
    "    \n",
    "ACT-R comes with a default window, which can be made invisible if one wants to. Using the default window is perhaps the easiest way to implement a simple task.\n",
    "\n",
    "## The Lexical Decision task\n",
    "\n",
    "To start, we will simulate a simple _lexical decision_ task. In the task, a string of letters appears on the screen and the model has to decide whether the string forms an english word (e.g., \"zebra\") or not (e.g. \"xyzzy\").  \n",
    "    \n",
    "The model is contained in the `lexical.lisp` file."
   ]
  },
  {
   "cell_type": "code",
   "execution_count": 2,
   "metadata": {},
   "outputs": [
    {
     "name": "stdout",
     "output_type": "stream",
     "text": [
      "ACT-R connection has been started.\n"
     ]
    }
   ],
   "source": [
    "import actr"
   ]
  },
  {
   "cell_type": "markdown",
   "metadata": {},
   "source": [
    "## Creating and initializing the window\n",
    "To use the predefined window, a number of initialization steps need to be done before running the model. In order, these steps are:\n",
    "* Loading the model\n",
    "* Creating the window, using the predefined `open_exp_window` method.\n",
    "* Install the window device, using the predefined `install_device` method. This will effectively connect the window to ACT-R.\n",
    "* Finally, add all the necessary elements to the window. For example, to add text, one might use `add_text_to_exp_window`"
   ]
  },
  {
   "cell_type": "code",
   "execution_count": 59,
   "metadata": {},
   "outputs": [],
   "source": [
    "def setup():\n",
    "    \"\"\"Sets up an ACT-R experimental window. If the function is called\n",
    "    while the ACT-R Environment is running, the window will be visible.\n",
    "    If not, the window will be automatically made 'invisible' (visible to the \n",
    "    model but not to the experimenter)\n",
    "    \"\"\"\n",
    "    actr.reset()\n",
    "    actr.load_act_r_model(\"lexical.lisp\")\n",
    "    win = actr.open_exp_window(\"Test\", width=400, height=400, visible=True)\n",
    "    actr.install_device(win)\n",
    "    actr.add_text_to_exp_window(win, \"zebra\", x=200, y=200, color=\"black\")\n",
    "    return win"
   ]
  },
  {
   "cell_type": "code",
   "execution_count": 78,
   "metadata": {},
   "outputs": [
    {
     "name": "stdout",
     "output_type": "stream",
     "text": [
      "     0.000   ------                 Stopped because event limit reached\n"
     ]
    },
    {
     "data": {
      "text/plain": [
       "[0.0, 2, None]"
      ]
     },
     "execution_count": 78,
     "metadata": {},
     "output_type": "execute_result"
    }
   ],
   "source": [
    "setup()\n",
    "actr.run_n_events(2)"
   ]
  },
  {
   "cell_type": "markdown",
   "metadata": {},
   "source": [
    "At this point, we can check the visicon"
   ]
  },
  {
   "cell_type": "code",
   "execution_count": 79,
   "metadata": {},
   "outputs": [
    {
     "name": "stdout",
     "output_type": "stream",
     "text": [
      "Name              Att  Loc             TEXT  KIND  COLOR  WIDTH  VALUE    HEIGHT  SIZE        \n",
      "----------------  ---  --------------  ----  ----  -----  -----  -------  ------  ----------\n",
      "VISUAL-LOCATION0  NEW  (519 506 1080)  T     TEXT  BLACK  35     \"zebra\"  10      0.97999996\n"
     ]
    }
   ],
   "source": [
    "actr.print_visicon()"
   ]
  },
  {
   "cell_type": "markdown",
   "metadata": {},
   "source": [
    "Now, that we have a new location, we can run the model and  "
   ]
  },
  {
   "cell_type": "code",
   "execution_count": 80,
   "metadata": {},
   "outputs": [
    {
     "name": "stdout",
     "output_type": "stream",
     "text": [
      "     0.000   VISION                 SET-BUFFER-CHUNK VISUAL-LOCATION VISUAL-LOCATION0 NIL\n",
      "     0.000   VISION                 visicon-update\n",
      "     0.000   PROCEDURAL             CONFLICT-RESOLUTION\n",
      "     0.050   PROCEDURAL             PRODUCTION-FIRED LOOK-AT-STRING\n",
      "     0.050   PROCEDURAL             CLEAR-BUFFER VISUAL-LOCATION\n",
      "     0.050   VISION                 Find-location\n",
      "     0.050   VISION                 SET-BUFFER-CHUNK VISUAL-LOCATION VISUAL-LOCATION0\n",
      "     0.050   PROCEDURAL             CONFLICT-RESOLUTION\n",
      "     0.100   VISION                 Move-attention VISUAL-LOCATION0-1\n",
      "     0.100   PROCEDURAL             CONFLICT-RESOLUTION\n",
      "     0.185   VISION                 Encoding-complete VISUAL-LOCATION0-1 NIL\n",
      "     0.185   VISION                 SET-BUFFER-CHUNK VISUAL TEXT0\n",
      "     0.185   PROCEDURAL             CONFLICT-RESOLUTION\n",
      "     0.235   PROCEDURAL             PRODUCTION-FIRED DECIDE\n",
      "     0.235   PROCEDURAL             CLEAR-BUFFER VISUAL\n",
      "     0.235   PROCEDURAL             CLEAR-BUFFER RETRIEVAL\n",
      "     0.235   DECLARATIVE            start-retrieval\n",
      "     0.235   DECLARATIVE            RETRIEVED-CHUNK ZEBRA\n",
      "     0.235   DECLARATIVE            SET-BUFFER-CHUNK RETRIEVAL ZEBRA\n",
      "     0.235   PROCEDURAL             CONFLICT-RESOLUTION\n",
      "     0.285   PROCEDURAL             PRODUCTION-FIRED RESPOND-WORD\n",
      "     0.285   PROCEDURAL             CLEAR-BUFFER MANUAL\n",
      "     0.285   MOTOR                  PUNCH HAND LEFT FINGER INDEX\n",
      "     0.285   PROCEDURAL             CONFLICT-RESOLUTION\n",
      "     0.300   ------                 Stopped because time limit reached\n"
     ]
    },
    {
     "data": {
      "text/plain": [
       "[0.3, 46, None]"
      ]
     },
     "execution_count": 80,
     "metadata": {},
     "output_type": "execute_result"
    }
   ],
   "source": [
    "actr.run(0.3)"
   ]
  },
  {
   "cell_type": "code",
   "execution_count": null,
   "metadata": {},
   "outputs": [],
   "source": []
  }
 ],
 "metadata": {
  "kernelspec": {
   "display_name": "Python 3",
   "language": "python",
   "name": "python3"
  },
  "language_info": {
   "codemirror_mode": {
    "name": "ipython",
    "version": 3
   },
   "file_extension": ".py",
   "mimetype": "text/x-python",
   "name": "python",
   "nbconvert_exporter": "python",
   "pygments_lexer": "ipython3",
   "version": "3.7.4"
  }
 },
 "nbformat": 4,
 "nbformat_minor": 4
}
