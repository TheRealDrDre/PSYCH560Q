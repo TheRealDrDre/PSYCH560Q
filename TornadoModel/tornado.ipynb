{
 "cells": [
  {
   "cell_type": "code",
   "execution_count": 1,
   "metadata": {},
   "outputs": [
    {
     "name": "stdout",
     "output_type": "stream",
     "text": [
      "ACT-R connection has been started.\n"
     ]
    }
   ],
   "source": [
    "## Gala's Tornado model interface\n",
    "\n",
    "import actr\n",
    "import os\n",
    "from scipy.stats import norm  # Gaussian distribution"
   ]
  },
  {
   "cell_type": "code",
   "execution_count": 34,
   "metadata": {},
   "outputs": [],
   "source": [
    "# Translations between colors and magnitudes \n",
    "TRANSLATIONS = {\"GREEN\" : 29,\n",
    "                \"ORANGE\" : 41,\n",
    "                \"YELLOW\" : 61,\n",
    "                \"NO WATCH OR WARNING\" : 30,\n",
    "                \"WATCH\" : 42,\n"
    "                \"WARNING\" : 53,\n"
    "                \"0-12%\" : 20,\n",
    "                \"13-24%\" : 27,\n",
    "                \"25-40%\" : 44,\n",}
    "\n",
    "def add_magnitudes():\n",
    "    \"Add magnitudes from 0 to 100\"\n",
    "    for mag in range(101):\n",
    "        actr.add_dm([\"isa\", \"magnitude\", \"kind\", \"magnitude\", \"mag\", mag])\n",
    "\n",
    "def is_magnitude(chunk):\n",
    "    \"Verifies whether a chunk is a magnitude repreentating chunk\"\n",
    "    kind = actr.chunk_slot_value(chunk, \"kind\") \n",
    "    if kind is not None and kind.upper() == \"MAGNITUDE\":\n",
    "        return True\n",
    "    else:\n",
    "        return False\n",
    "\n",
    "def sji_calc(source, target):\n",
    "    \"Association function between chunks\"\n",
    "    #print([source, target])\n",
    "    if is_magnitude(target) and source in TRANSLATIONS.keys():\n",
    "        x = actr.chunk_slot_value(target, \"mag\")\n",
    "        mu = TRANSLATIONS[source]\n",
    "        #print(norm.pdf(x - mu, scale = 1))\n",
    "        return 1 * norm.pdf(x - mu, scale = 1)\n",
    "    else:\n",
    "        return 0.0\n",
    "\n",
    "def run_experiment(model_name = \"tornado-model.lisp\",\n",
    "                   time = 200,\n",
    "                   verbose = True,\n",
    "                   visible = True,\n",
    "                   trace = True):\n",
    "    \"\"\"Runs an experiment\"\"\"\n",
    "    actr.add_command(\"sji_calculation\", sji_calc,\n",
    "                     \"Personal spreading activation function\")\n",
    "    actr.load_act_r_model(model_name)\n",
    "    add_magnitudes()\n",
    "    actr.run(time)\n",
    "    actr.remove_command(\"sji_calculation\")"
   ]
  },
  {
   "cell_type": "code",
   "execution_count": 35,
   "metadata": {},
   "outputs": [
    {
     "name": "stdout",
     "output_type": "stream",
     "text": [
      "#|Warning: Productions request a value for the COLOR slot in a request to the IMAGINAL buffer, but that slot is not used in other productions. |#\n",
      "#|Warning: Productions request a value for the NUMBER slot in a request to the IMAGINAL buffer, but that slot is not used in other productions. |#\n",
      "#|Warning: Productions request a value for the WORD slot in a request to the IMAGINAL buffer, but that slot is not used in other productions. |#\n",
      "#|Warning: Creating chunk MAGNITUDE with no slots |#\n",
      "     0.000   GOAL                   SET-BUFFER-CHUNK GOAL FIRST-DECISION NIL\n",
      "     0.000   PROCEDURAL             CONFLICT-RESOLUTION\n",
      "     0.050   PROCEDURAL             PRODUCTION-FIRED TRANSLATE\n",
      "     0.050   GOAL                   MOD-BUFFER-CHUNK GOAL\n",
      "     0.050   PROCEDURAL             CLEAR-BUFFER RETRIEVAL\n",
      "     0.050   PROCEDURAL             CLEAR-BUFFER IMAGINAL\n",
      "     0.050   DECLARATIVE            start-retrieval\n",
      "     0.050   PROCEDURAL             CONFLICT-RESOLUTION\n",
      "     0.109   DECLARATIVE            RETRIEVED-CHUNK MAGNITUDE9\n",
      "     0.109   DECLARATIVE            SET-BUFFER-CHUNK RETRIEVAL MAGNITUDE9\n",
      "     0.109   PROCEDURAL             CONFLICT-RESOLUTION\n",
      "     0.159   PROCEDURAL             PRODUCTION-FIRED DECIDE-S\n",
      "     0.159   GOAL                   MOD-BUFFER-CHUNK GOAL\n",
      "     0.159   PROCEDURAL             CLEAR-BUFFER RETRIEVAL\n",
      "     0.159   PROCEDURAL             CLEAR-BUFFER MANUAL\n",
      "     0.159   MOTOR                  PRESS-KEY KEY S\n",
      "#|Warning: No keyboard device installed for motor module.  Press-key action ignored. |#\n",
      "     0.159   PROCEDURAL             CONFLICT-RESOLUTION\n",
      "     0.250   IMAGINAL               SET-BUFFER-CHUNK IMAGINAL CHUNK0\n",
      "     0.250   PROCEDURAL             CONFLICT-RESOLUTION\n",
      "     0.250   ------                 Stopped because no events left to process\n"
     ]
    }
   ],
   "source": [
    "run_experiment(time=2)"
   ]
  }
 ],
 "metadata": {
  "kernelspec": {
   "display_name": "Python 3",
   "language": "python",
   "name": "python3"
  },
  "language_info": {
   "codemirror_mode": {
    "name": "ipython",
    "version": 3
   },
   "file_extension": ".py",
   "mimetype": "text/x-python",
   "name": "python",
   "nbconvert_exporter": "python",
   "pygments_lexer": "ipython3",
   "version": "3.7.4"
  }
 },
 "nbformat": 4,
 "nbformat_minor": 4
}
